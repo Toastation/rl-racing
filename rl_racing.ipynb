{
 "metadata": {
  "language_info": {
   "codemirror_mode": {
    "name": "ipython",
    "version": 3
   },
   "file_extension": ".py",
   "mimetype": "text/x-python",
   "name": "python",
   "nbconvert_exporter": "python",
   "pygments_lexer": "ipython3",
   "version": "3.6.4-final"
  },
  "orig_nbformat": 2,
  "kernelspec": {
   "name": "python3",
   "display_name": "Python 3",
   "language": "python"
  }
 },
 "nbformat": 4,
 "nbformat_minor": 2,
 "cells": [
  {
   "source": [
    "## Import"
   ],
   "cell_type": "markdown",
   "metadata": {}
  },
  {
   "cell_type": "code",
   "execution_count": 2,
   "metadata": {},
   "outputs": [],
   "source": [
    "import gym"
   ]
  },
  {
   "source": [
    "## Loading the environment "
   ],
   "cell_type": "markdown",
   "metadata": {}
  },
  {
   "source": [
    "env = gym.make('CarRacing-v0')\n",
    "env.reset()"
   ],
   "cell_type": "code",
   "metadata": {},
   "execution_count": 3,
   "outputs": [
    {
     "output_type": "stream",
     "name": "stdout",
     "text": [
      "Track generation: 1328..1664 -> 336-tiles track\n"
     ]
    },
    {
     "output_type": "execute_result",
     "data": {
      "text/plain": [
       "array([[[0, 0, 0],\n",
       "        [0, 0, 0],\n",
       "        [0, 0, 0],\n",
       "        ...,\n",
       "        [0, 0, 0],\n",
       "        [0, 0, 0],\n",
       "        [0, 0, 0]],\n",
       "\n",
       "       [[0, 0, 0],\n",
       "        [0, 0, 0],\n",
       "        [0, 0, 0],\n",
       "        ...,\n",
       "        [0, 0, 0],\n",
       "        [0, 0, 0],\n",
       "        [0, 0, 0]],\n",
       "\n",
       "       [[0, 0, 0],\n",
       "        [0, 0, 0],\n",
       "        [0, 0, 0],\n",
       "        ...,\n",
       "        [0, 0, 0],\n",
       "        [0, 0, 0],\n",
       "        [0, 0, 0]],\n",
       "\n",
       "       ...,\n",
       "\n",
       "       [[0, 0, 0],\n",
       "        [0, 0, 0],\n",
       "        [0, 0, 0],\n",
       "        ...,\n",
       "        [0, 0, 0],\n",
       "        [0, 0, 0],\n",
       "        [0, 0, 0]],\n",
       "\n",
       "       [[0, 0, 0],\n",
       "        [0, 0, 0],\n",
       "        [0, 0, 0],\n",
       "        ...,\n",
       "        [0, 0, 0],\n",
       "        [0, 0, 0],\n",
       "        [0, 0, 0]],\n",
       "\n",
       "       [[0, 0, 0],\n",
       "        [0, 0, 0],\n",
       "        [0, 0, 0],\n",
       "        ...,\n",
       "        [0, 0, 0],\n",
       "        [0, 0, 0],\n",
       "        [0, 0, 0]]], dtype=uint8)"
      ]
     },
     "metadata": {},
     "execution_count": 3
    }
   ]
  },
  {
   "cell_type": "code",
   "execution_count": 4,
   "metadata": {},
   "outputs": [
    {
     "output_type": "stream",
     "name": "stdout",
     "text": [
      "Action space:\nBox(-1.0, 1.0, (3,), float32)\n\nObservation space:\nBox(0, 255, (96, 96, 3), uint8)\nAction space sample:\n[[[189 224 195]\n  [ 28 111  73]\n  [184 204 105]\n  ...\n  [127 219  69]\n  [213 131  27]\n  [ 24  93 247]]\n\n [[ 32  63 132]\n  [ 97 219 100]\n  [126 234 101]\n  ...\n  [ 44 123 114]\n  [188 101  98]\n  [127   5 207]]\n\n [[ 19  13  63]\n  [131 250 253]\n  [ 86 247  35]\n  ...\n  [ 85  23 158]\n  [132  18 223]\n  [241  60  21]]\n\n ...\n\n [[247  41 249]\n  [156  16 205]\n  [223  19 119]\n  ...\n  [ 82 127  54]\n  [212 252   5]\n  [ 65 120  42]]\n\n [[ 79 131 133]\n  [  0 189 136]\n  [ 75 120  83]\n  ...\n  [248  45  49]\n  [ 20  28 245]\n  [130  12 204]]\n\n [[211  47  19]\n  [ 61  96 211]\n  [  3  98  22]\n  ...\n  [138 250 141]\n  [ 69 218 106]\n  [ 22 158 216]]]\n"
     ]
    }
   ],
   "source": [
    "print(f\"Action space:\\n{env.action_space}\\n\")\n",
    "print(f\"Observation space:\\n{env.observation_space}\")"
   ]
  },
  {
   "source": [
    "### Test random action"
   ],
   "cell_type": "markdown",
   "metadata": {}
  },
  {
   "source": [
    "To quit the Python game window, stop the cell execution"
   ],
   "cell_type": "markdown",
   "metadata": {}
  },
  {
   "cell_type": "code",
   "execution_count": 15,
   "metadata": {},
   "outputs": [
    {
     "output_type": "error",
     "ename": "Error",
     "evalue": "Pip module Unable to parse debugpy output, please log an issue with https://github.com/microsoft/vscode-jupyter is required for debugging cells. You will need to install it to debug cells.",
     "traceback": [
      "Error: Pip module Unable to parse debugpy output, please log an issue with https://github.com/microsoft/vscode-jupyter is required for debugging cells. You will need to install it to debug cells.",
      "at b.parseConnectInfo (c:\\Users\\Melvin.Melvin-PC\\.vscode\\extensions\\ms-toolsai.jupyter-2020.12.414227025\\out\\client\\extension.js:49:486311)",
      "at b.connectToLocal (c:\\Users\\Melvin.Melvin-PC\\.vscode\\extensions\\ms-toolsai.jupyter-2020.12.414227025\\out\\client\\extension.js:49:486838)",
      "at async b.connect (c:\\Users\\Melvin.Melvin-PC\\.vscode\\extensions\\ms-toolsai.jupyter-2020.12.414227025\\out\\client\\extension.js:49:484715)",
      "at async b.startDebugSession (c:\\Users\\Melvin.Melvin-PC\\.vscode\\extensions\\ms-toolsai.jupyter-2020.12.414227025\\out\\client\\extension.js:49:483862)",
      "at async f.submitCode (c:\\Users\\Melvin.Melvin-PC\\.vscode\\extensions\\ms-toolsai.jupyter-2020.12.414227025\\out\\client\\extension.js:32:585464)",
      "at async f.handleRunByLine (c:\\Users\\Melvin.Melvin-PC\\.vscode\\extensions\\ms-toolsai.jupyter-2020.12.414227025\\out\\client\\extension.js:9:173871)"
     ]
    }
   ],
   "source": [
    "for _ in range(1000):\n",
    "    env.render()\n",
    "    env.step(env.action_space.sample()) # take a random action\n",
    "env.close()"
   ]
  },
  {
   "cell_type": "code",
   "execution_count": null,
   "metadata": {},
   "outputs": [],
   "source": []
  }
 ]
}